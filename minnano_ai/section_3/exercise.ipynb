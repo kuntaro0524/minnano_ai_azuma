{
 "cells": [
  {
   "cell_type": "markdown",
   "metadata": {
    "colab_type": "text",
    "id": "view-in-github"
   },
   "source": [
    "<a href=\"https://colab.research.google.com/github/yukinaga/minnano_ai/blob/master/section_3/exercise.ipynb\" target=\"_parent\"><img src=\"https://colab.research.google.com/assets/colab-badge.svg\" alt=\"Open In Colab\"/></a>"
   ]
  },
  {
   "cell_type": "markdown",
   "metadata": {
    "colab_type": "text",
    "id": "fLN2ugJFee37"
   },
   "source": [
    "# 演習\n",
    "ネイピア数の数値を求めてみましょう。"
   ]
  },
  {
   "cell_type": "markdown",
   "metadata": {
    "colab_type": "text",
    "id": "bLm1AxuOevaY"
   },
   "source": [
    "## ● ネイピア数の計算\n",
    "\n",
    "ネイピア数の数値は以下の通りです。  \n",
    "\n",
    "$$e = 2.71828 18284 59045 23536 02874 71352 …$$  \n",
    "  \n",
    "この値は以下の式における$n$の値を無限に大きくすることで求めることができます。  \n",
    "  \n",
    "$$ \\Bigl(1+\\frac{1}{n}\\Bigr)^n$$\n",
    "  \n",
    "この式における$n$の値を少しずつ大きくして、ネイピア数$e$に近づくことをコードで確認しましょう。\n",
    "\n",
    "\n"
   ]
  },
  {
   "cell_type": "code",
   "execution_count": 4,
   "metadata": {
    "colab": {},
    "colab_type": "code",
    "id": "dCJOSWYBe9pV"
   },
   "outputs": [
    {
     "name": "stdout",
     "output_type": "stream",
     "text": [
      "a_2 = 2.25\n",
      "a_4 = 2.44140625\n",
      "a_10 = 2.5937424601000023\n",
      "a_100 = 2.7048138294215285\n",
      "a_10000 = 2.7181459268249255\n",
      "a_1000000 = 2.7182804690957534\n"
     ]
    }
   ],
   "source": [
    "import numpy as np\n",
    "\n",
    "def approach_napier(n):\n",
    "    return (1 + 1/n)**n\n",
    "\n",
    "n_list = [2, 4, 10, 100, 10000,1000000]  # このリストにさらに大きな数を追加する\n",
    "for n in n_list:\n",
    "    print(\"a_\"+ str(n) + \" =\", approach_napier(n))"
   ]
  },
  {
   "cell_type": "markdown",
   "metadata": {
    "colab_type": "text",
    "id": "7MJ1jyo4hdK9"
   },
   "source": [
    "## 解答例\n",
    "以下は解答例です。どうしても手がかりがつかめない時のみ参考にしましょう。  "
   ]
  },
  {
   "cell_type": "code",
   "execution_count": null,
   "metadata": {
    "colab": {},
    "colab_type": "code",
    "id": "8ZzC4uMzhsc_"
   },
   "outputs": [],
   "source": [
    "import numpy as np\n",
    "\n",
    "def approach_napier(n):\n",
    "    return (1 + 1/n)**n\n",
    "\n",
    "n_list = [2, 4, 10, 100, 1000, 10000, 100000]  # このリストにさらに大きな数を追加する\n",
    "for n in n_list:\n",
    "    print(\"a_\"+ str(n) + \" =\", approach_napier(n))"
   ]
  }
 ],
 "metadata": {
  "colab": {
   "authorship_tag": "ABX9TyN9jWMDNKMRYmXDYsLosfAK",
   "collapsed_sections": [],
   "include_colab_link": true,
   "name": "exercise.ipynb",
   "provenance": []
  },
  "kernelspec": {
   "display_name": "Python 3",
   "language": "python",
   "name": "python3"
  },
  "language_info": {
   "codemirror_mode": {
    "name": "ipython",
    "version": 3
   },
   "file_extension": ".py",
   "mimetype": "text/x-python",
   "name": "python",
   "nbconvert_exporter": "python",
   "pygments_lexer": "ipython3",
   "version": "3.6.10"
  }
 },
 "nbformat": 4,
 "nbformat_minor": 1
}
