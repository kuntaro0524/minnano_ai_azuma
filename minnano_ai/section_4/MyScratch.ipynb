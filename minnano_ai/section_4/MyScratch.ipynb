{
 "cells": [
  {
   "cell_type": "markdown",
   "metadata": {},
   "source": [
    "# フルスクラッチで（大切なところはコピペしながら）自分で実装してみます"
   ]
  },
  {
   "cell_type": "code",
   "execution_count": 12,
   "metadata": {},
   "outputs": [],
   "source": [
    "import numpy as np\n"
   ]
  },
  {
   "cell_type": "code",
   "execution_count": 16,
   "metadata": {},
   "outputs": [],
   "source": [
    "# ニューロンクラスを実装する（各ニューロンの要素）\n",
    "\n",
    "class Neuron:\n",
    "    def __init__(self, weight, bias):\n",
    "        print(\"Neuronだよ！\")\n",
    "        self.sum_input = 0.0\n",
    "        self.output = 0.0\n",
    "        # Weight と biasの計算についてもこれに書いてしまう\n",
    "        self.weight = weight\n",
    "        self.bias = bias\n",
    "        \n",
    "    def sigmoid(self):\n",
    "        return 1.0 / (1.0 + np.exp(-self.sum_input))        \n",
    "\n",
    "    def setInput(self, input_value):\n",
    "        self.sum_input += input_value*weight\n",
    "        \n",
    "    def getOutput(self):\n",
    "        self.output = self.sigmoid()\n",
    "        return self.output\n",
    "    \n",
    "    def reset(self):\n",
    "        self.sum_input = 0.0\n",
    "        self.output = 0.0"
   ]
  },
  {
   "cell_type": "code",
   "execution_count": 17,
   "metadata": {},
   "outputs": [
    {
     "name": "stdout",
     "output_type": "stream",
     "text": [
      "Neuronだよ！\n"
     ]
    }
   ],
   "source": [
    "neuron=Neuron()"
   ]
  },
  {
   "cell_type": "code",
   "execution_count": 18,
   "metadata": {},
   "outputs": [
    {
     "data": {
      "text/plain": [
       "0.5"
      ]
     },
     "execution_count": 18,
     "metadata": {},
     "output_type": "execute_result"
    }
   ],
   "source": [
    "neuron.getOutput()"
   ]
  },
  {
   "cell_type": "code",
   "execution_count": 19,
   "metadata": {},
   "outputs": [],
   "source": [
    "# ニューラルネットワークを構築"
   ]
  },
  {
   "cell_type": "code",
   "execution_count": null,
   "metadata": {},
   "outputs": [],
   "source": [
    "class NeuralNetwork:\n",
    "    def __init__(self, n_node):\n",
    "        self.n_node = n_node\n",
    "        \n",
    "    def generateSingleNeuron(self, weight, bias):\n",
    "        "
   ]
  }
 ],
 "metadata": {
  "kernelspec": {
   "display_name": "Python 3",
   "language": "python",
   "name": "python3"
  },
  "language_info": {
   "codemirror_mode": {
    "name": "ipython",
    "version": 3
   },
   "file_extension": ".py",
   "mimetype": "text/x-python",
   "name": "python",
   "nbconvert_exporter": "python",
   "pygments_lexer": "ipython3",
   "version": "3.8.5"
  }
 },
 "nbformat": 4,
 "nbformat_minor": 4
}
