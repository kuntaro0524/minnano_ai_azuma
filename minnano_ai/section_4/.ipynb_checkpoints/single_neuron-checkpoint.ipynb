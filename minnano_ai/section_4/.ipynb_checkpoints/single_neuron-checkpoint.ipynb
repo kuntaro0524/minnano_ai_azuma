{
 "cells": [
  {
   "cell_type": "markdown",
   "metadata": {
    "colab_type": "text",
    "id": "view-in-github"
   },
   "source": [
    "<a href=\"https://colab.research.google.com/github/yukinaga/minnano_ai/blob/master/section_4/single_neuron.ipynb\" target=\"_parent\"><img src=\"https://colab.research.google.com/assets/colab-badge.svg\" alt=\"Open In Colab\"/></a>"
   ]
  },
  {
   "cell_type": "markdown",
   "metadata": {
    "colab_type": "text",
    "id": "9BKL6OQk9qEa"
   },
   "source": [
    "# 単一ニューロンの実装\n",
    "通常ニューラルネットワークは多数のニューロンで構成されますが、今回はニューロンが1つしかないとてもシンプルなニューラルネットワークを実装します。  \n",
    "コードを書きながら、ニューロン内部の仕組みを把握していきましょう。"
   ]
  },
  {
   "cell_type": "markdown",
   "metadata": {
    "colab_type": "text",
    "id": "jW1Im1d-DaG8"
   },
   "source": [
    "## ● ニューロンへの入力\n",
    "以下のセルで、ニューロン及びニューラルネットワークをクラスとして実装します。  \n",
    "ニューラルネットワークは複数の入力を受け取り、内部のニューロンにその値を渡します。  \n",
    "今回はまだ、ニューロンは受け取った値を足し合わて表示するのみです。  \n",
    "`__init__`はインスタンスの生成時に実行される特殊なメソッドで、初期設定のためによく使われます。"
   ]
  },
  {
   "cell_type": "code",
   "execution_count": 1,
   "metadata": {
    "colab": {},
    "colab_type": "code",
    "id": "jRSFgmgzIcP6"
   },
   "outputs": [
    {
     "name": "stdout",
     "output_type": "stream",
     "text": [
      "1.0\n",
      "3.0\n",
      "6.0\n"
     ]
    }
   ],
   "source": [
    "# ニューロン\n",
    "class Neuron:\n",
    "    def __init__(self):  # 初期設定\n",
    "        self.input_sum = 0.0\n",
    "\n",
    "    def set_input(self, inp):\n",
    "        self.input_sum += inp\n",
    "        print (self.input_sum)\n",
    "\n",
    "# ニューラルネットワーク\n",
    "class NeuralNetwork:\n",
    "    def __init__(self):  # 初期設定\n",
    "        self.neuron = Neuron()  #ニューロンのインスタンス\n",
    "\n",
    "    def commit(self, input_data):  # 実行\n",
    "        for data in input_data:\n",
    "            self.neuron.set_input(data)\n",
    "\n",
    "# ニューラルネットワークのインスタンス\n",
    "neural_network = NeuralNetwork()\n",
    "\n",
    "# 実行\n",
    "input_data = [1.0, 2.0, 3.0]\n",
    "neural_network.commit(input_data)"
   ]
  },
  {
   "cell_type": "code",
   "execution_count": 2,
   "metadata": {
    "colab": {},
    "colab_type": "code",
    "id": "5zJZQGcLYVCq"
   },
   "outputs": [
    {
     "name": "stdout",
     "output_type": "stream",
     "text": [
      "1.0\n",
      "3.0\n",
      "6.0\n"
     ]
    }
   ],
   "source": [
    "# コード練習用\n",
    "class Neuron:\n",
    "    def __init__(self):\n",
    "        self.input_sum=0.0\n",
    "    def set_input(self, inp):\n",
    "        self.input_sum += inp\n",
    "        print(self.input_sum)\n",
    "        \n",
    "# ニューラルネットワークのクラス\n",
    "class NeuralNetwork:\n",
    "    def __init__(self):\n",
    "        self.neuron = Neuron()\n",
    "    \n",
    "    def commit(self, input_data):\n",
    "        for data in input_data:\n",
    "            self.neuron.set_input(data)\n",
    "            \n",
    "# ニューラルネットワーククラスをインスタンス化する\n",
    "neural_network = NeuralNetwork()\n",
    "\n",
    "input_data = [1,2,3]\n",
    "neural_network.commit(input_data)"
   ]
  },
  {
   "cell_type": "markdown",
   "metadata": {
    "colab_type": "text",
    "id": "wKnGD8g4YYGj"
   },
   "source": [
    "## ● ニューロンからの出力\n",
    "入力はニューロンの内部で処理され、出力となります。  \n",
    "ニューロンからの出力は、ニューラルネットワークの出力となります。\n"
   ]
  },
  {
   "cell_type": "code",
   "execution_count": 3,
   "metadata": {
    "colab": {},
    "colab_type": "code",
    "id": "MARHVC7JIndu"
   },
   "outputs": [
    {
     "name": "stdout",
     "output_type": "stream",
     "text": [
      "6.0\n"
     ]
    }
   ],
   "source": [
    "# ニューロン\n",
    "class Neuron:\n",
    "    def __init__(self):  # 初期設定\n",
    "        self.input_sum = 0.0\n",
    "        self.output = 0.0\n",
    "\n",
    "    def set_input(self, inp):\n",
    "        self.input_sum += inp\n",
    "\n",
    "    def get_output(self):\n",
    "        self.output = self.input_sum\n",
    "        return self.output\n",
    "\n",
    "# ニューラルネットワーク\n",
    "class NeuralNetwork:\n",
    "    def __init__(self):  # 初期設定\n",
    "        self.neuron = Neuron()  #ニューロンのインスタンス\n",
    "\n",
    "    def commit(self, input_data):  # 実行\n",
    "        for data in input_data:\n",
    "            self.neuron.set_input(data)\n",
    "        return self.neuron.get_output()\n",
    "\n",
    "# ニューラルネットワークのインスタンス\n",
    "neural_network = NeuralNetwork()\n",
    "\n",
    "# 実行\n",
    "input_data = [1.0, 2.0, 3.0]\n",
    "print(neural_network.commit(input_data))"
   ]
  },
  {
   "cell_type": "code",
   "execution_count": 4,
   "metadata": {
    "colab": {},
    "colab_type": "code",
    "id": "qYViLX3gh_oS"
   },
   "outputs": [],
   "source": [
    "# コード練習用\n"
   ]
  },
  {
   "cell_type": "markdown",
   "metadata": {
    "colab_type": "text",
    "id": "4wdgaDGgh8_i"
   },
   "source": [
    "## ● 活性化関数の導入\n",
    "活性化関数として、シグモイド関数を導入します。  \n",
    "シグモイド関数に入力の総和を入れることで、0から1の範囲の出力を得ることができます。"
   ]
  },
  {
   "cell_type": "code",
   "execution_count": 5,
   "metadata": {
    "colab": {},
    "colab_type": "code",
    "id": "_KvFf2spJIye"
   },
   "outputs": [
    {
     "name": "stdout",
     "output_type": "stream",
     "text": [
      "0.9975273768433653\n"
     ]
    }
   ],
   "source": [
    "import numpy as np\n",
    "\n",
    "# シグモイド関数\n",
    "def sigmoid(x):\n",
    "    return 1.0 / (1.0 + np.exp(-x))\n",
    "\n",
    "# ニューロン\n",
    "class Neuron:\n",
    "    def __init__(self):  # 初期設定\n",
    "        self.input_sum = 0.0\n",
    "        self.output = 0.0\n",
    "\n",
    "    def set_input(self, inp):\n",
    "        self.input_sum += inp\n",
    "\n",
    "    def get_output(self):\n",
    "        self.output = sigmoid(self.input_sum)\n",
    "        return self.output\n",
    "\n",
    "# ニューラルネットワーク\n",
    "class NeuralNetwork:\n",
    "    def __init__(self):  # 初期設定\n",
    "        self.neuron = Neuron()  #ニューロンのインスタンス\n",
    "\n",
    "    def commit(self, input_data):  # 実行\n",
    "        for data in input_data:\n",
    "            self.neuron.set_input(data)\n",
    "        return self.neuron.get_output()\n",
    "\n",
    "# ニューラルネットワークのインスタンス\n",
    "neural_network = NeuralNetwork()\n",
    "\n",
    "# 実行\n",
    "input_data = [1.0, 2.0, 3.0]\n",
    "print(neural_network.commit(input_data))"
   ]
  },
  {
   "cell_type": "code",
   "execution_count": 6,
   "metadata": {
    "colab": {},
    "colab_type": "code",
    "id": "b-oTytWfiom6"
   },
   "outputs": [],
   "source": [
    "# コード練習用\n"
   ]
  },
  {
   "cell_type": "markdown",
   "metadata": {
    "colab_type": "text",
    "id": "mae1n4G5ipXI"
   },
   "source": [
    "## ● 重みの導入\n",
    "入力の影響度を調整するための「重み」を導入します。  \n",
    "入力と重みの積の総和を、活性化関数の入力とします。  "
   ]
  },
  {
   "cell_type": "code",
   "execution_count": 7,
   "metadata": {
    "colab": {},
    "colab_type": "code",
    "id": "MuD2c59OJJyS"
   },
   "outputs": [
    {
     "name": "stdout",
     "output_type": "stream",
     "text": [
      "0.5\n"
     ]
    }
   ],
   "source": [
    "import numpy as np\n",
    "\n",
    "# シグモイド関数\n",
    "def sigmoid(x):\n",
    "    return 1.0 / (1.0 + np.exp(-x))\n",
    "\n",
    "# ニューロン\n",
    "class Neuron:\n",
    "    def __init__(self):  # 初期設定\n",
    "        self.input_sum = 0.0\n",
    "        self.output = 0.0\n",
    "\n",
    "    def set_input(self, inp):\n",
    "        self.input_sum += inp\n",
    "\n",
    "    def get_output(self):\n",
    "        self.output = sigmoid(self.input_sum)\n",
    "        return self.output\n",
    "\n",
    "# ニューラルネットワーク\n",
    "class NeuralNetwork:\n",
    "    def __init__(self):  # 初期設定\n",
    "        self.neuron = Neuron()  #ニューロンのインスタンス\n",
    "        self.w = [1.5, 0.75, -1.0]\n",
    "\n",
    "    def commit(self, input_data):  # 実行\n",
    "        self.neuron.set_input(input_data[0] * self.w[0])\n",
    "        self.neuron.set_input(input_data[1] * self.w[1])\n",
    "        self.neuron.set_input(input_data[2] * self.w[2])\n",
    "        return self.neuron.get_output()\n",
    "\n",
    "# ニューラルネットワークのインスタンス\n",
    "neural_network = NeuralNetwork()\n",
    "\n",
    "# 実行\n",
    "input_data = [1.0, 2.0, 3.0]\n",
    "print(neural_network.commit(input_data))"
   ]
  },
  {
   "cell_type": "code",
   "execution_count": null,
   "metadata": {
    "colab": {},
    "colab_type": "code",
    "id": "SmyluuvmiqaE"
   },
   "outputs": [],
   "source": [
    "# コード練習用\n"
   ]
  },
  {
   "cell_type": "markdown",
   "metadata": {
    "colab_type": "text",
    "id": "jm3-zhsz7ZwR"
   },
   "source": [
    "## ● バイアスの導入\n",
    "バイアスを導入し、ニューロンの感度を調節します。  \n",
    "入力と重みの積にバイアスを加え、活性化関数の入力とします。  "
   ]
  },
  {
   "cell_type": "code",
   "execution_count": 8,
   "metadata": {
    "colab": {},
    "colab_type": "code",
    "id": "LIzdG42q7cea"
   },
   "outputs": [
    {
     "name": "stdout",
     "output_type": "stream",
     "text": [
      "0.7310585786300049\n"
     ]
    }
   ],
   "source": [
    "import numpy as np\n",
    "\n",
    "# シグモイド関数\n",
    "def sigmoid(x):\n",
    "    return 1.0 / (1.0 + np.exp(-x))\n",
    "\n",
    "# ニューロン\n",
    "class Neuron:\n",
    "    def __init__(self):  # 初期設定\n",
    "        self.input_sum = 0.0\n",
    "        self.output = 0.0\n",
    "\n",
    "    def set_input(self, inp):\n",
    "        self.input_sum += inp\n",
    "\n",
    "    def get_output(self):\n",
    "        self.output = sigmoid(self.input_sum)\n",
    "        return self.output\n",
    "\n",
    "# ニューラルネットワーク\n",
    "class NeuralNetwork:\n",
    "    def __init__(self):  # 初期設定\n",
    "        self.neuron = Neuron()  #ニューロンのインスタンス\n",
    "        self.w = [1.5, 0.75, -1.0]\n",
    "        self.bias = 1.0\n",
    "\n",
    "    def commit(self, input_data):  # 実行\n",
    "        self.neuron.set_input(input_data[0] * self.w[0])\n",
    "        self.neuron.set_input(input_data[1] * self.w[1])\n",
    "        self.neuron.set_input(input_data[2] * self.w[2])\n",
    "        self.neuron.set_input(self.bias)\n",
    "        return self.neuron.get_output()\n",
    "\n",
    "# ニューラルネットワークのインスタンス\n",
    "neural_network = NeuralNetwork()\n",
    "\n",
    "# 実行\n",
    "input_data = [1.0, 2.0, 3.0]\n",
    "print(neural_network.commit(input_data))"
   ]
  },
  {
   "cell_type": "code",
   "execution_count": null,
   "metadata": {
    "colab": {},
    "colab_type": "code",
    "id": "1fgjPQl77dXK"
   },
   "outputs": [],
   "source": [
    "# コード練習用\n"
   ]
  }
 ],
 "metadata": {
  "colab": {
   "authorship_tag": "ABX9TyOPSqZXYvTLH4ps1mrHPrjf",
   "collapsed_sections": [],
   "include_colab_link": true,
   "name": "single_neuron.ipynb",
   "provenance": []
  },
  "kernelspec": {
   "display_name": "Python 3",
   "language": "python",
   "name": "python3"
  },
  "language_info": {
   "codemirror_mode": {
    "name": "ipython",
    "version": 3
   },
   "file_extension": ".py",
   "mimetype": "text/x-python",
   "name": "python",
   "nbconvert_exporter": "python",
   "pygments_lexer": "ipython3",
   "version": "3.8.5"
  }
 },
 "nbformat": 4,
 "nbformat_minor": 4
}
