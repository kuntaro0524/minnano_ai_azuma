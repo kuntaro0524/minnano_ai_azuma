{
 "cells": [
  {
   "cell_type": "markdown",
   "metadata": {
    "colab_type": "text",
    "id": "view-in-github"
   },
   "source": [
    "<a href=\"https://colab.research.google.com/github/yukinaga/minnano_ai/blob/master/section_4/neural_network.ipynb\" target=\"_parent\"><img src=\"https://colab.research.google.com/assets/colab-badge.svg\" alt=\"Open In Colab\"/></a>"
   ]
  },
  {
   "cell_type": "markdown",
   "metadata": {
    "colab_type": "text",
    "id": "j73Kthjp1iAq"
   },
   "source": [
    "# ニューラルネットワーク\n",
    "複数のニューロンからなるニューラルネットワークを構築し、Irisの品種分類を行います。 \n"
   ]
  },
  {
   "cell_type": "markdown",
   "metadata": {
    "colab_type": "text",
    "id": "E7AByiMV1jOx"
   },
   "source": [
    "## ● ニューラルネットワークの構築\n",
    "ニューロンを層状に並べて、入力層、中間層、出力層とします。  \n",
    "入力層は入力を受け取るのみですが、中間層には2つ、出力層には1つのニューロンを配置します。"
   ]
  },
  {
   "cell_type": "code",
   "execution_count": 1,
   "metadata": {
    "colab": {},
    "colab_type": "code",
    "id": "zNwYWDe_jZeb"
   },
   "outputs": [
    {
     "data": {
      "image/png": "[encoded data removed]",
      "text/plain": [
       "<Figure size 432x288 with 1 Axes>"
      ]
     },
     "metadata": {
      "needs_background": "light"
     },
     "output_type": "display_data"
    }
   ],
   "source": [
    "import numpy as np\n",
    "import matplotlib.pyplot as plt\n",
    "from sklearn import datasets\n",
    "\n",
    "iris = datasets.load_iris()\n",
    "iris_data = iris.data\n",
    "sl_data = iris_data[:100, 0] # SetosaとVersicolor、Sepal length\n",
    "sw_data = iris_data[:100, 1] # SetosaとVersicolor、Sepal width\n",
    "\n",
    "# 平均値を0に\n",
    "sl_ave = np.average(sl_data)  # 平均値\n",
    "sl_data -= sl_ave  # 平均値を引く\n",
    "sw_ave = np.average(sw_data)\n",
    "sw_data -= sw_ave\n",
    "\n",
    "# 入力をリストに格納\n",
    "input_data = []\n",
    "for i in range(100):  # iには0から99までが入る\n",
    "    input_data.append([sl_data[i], sw_data[i]])\n",
    "\n",
    "# シグモイド関数\n",
    "def sigmoid(x):\n",
    "    return 1.0 / (1.0 + np.exp(-x))\n",
    "\n",
    "# ニューロン\n",
    "class Neuron:\n",
    "    def __init__(self):  # 初期設定\n",
    "        self.input_sum = 0.0\n",
    "        self.output = 0.0\n",
    "\n",
    "    def set_input(self, inp):\n",
    "        self.input_sum += inp\n",
    "\n",
    "    def get_output(self):\n",
    "        self.output = sigmoid(self.input_sum)\n",
    "        return self.output\n",
    "\n",
    "    def reset(self):\n",
    "        self.input_sum = 0\n",
    "        self.output = 0\n",
    "\n",
    "# ニューラルネットワーク\n",
    "class NeuralNetwork:\n",
    "    def __init__(self):  # 初期設定\n",
    "        # 重み\n",
    "        self.w_im = [[4.0, 4.0], [4.0, 4.0]]  # 入力:2 ニューロン数:2\n",
    "        self.w_mo = [[1.0, -1.0]]  # 入力:2 ニューロン数:1\n",
    "\n",
    "        # バイアス\n",
    "        self.b_m = [2.0, -2.0]  # ニューロン数:2\n",
    "        self.b_o = [-0.5]  # ニューロン数:1\n",
    "\n",
    "        # 各層の宣言\n",
    "        self.input_layer = [0.0, 0.0]\n",
    "        self.middle_layer = [Neuron(), Neuron()]\n",
    "        self.output_layer = [Neuron()]\n",
    "\n",
    "    def commit(self, input_data):  # 実行\n",
    "        # 各層のリセット\n",
    "        self.input_layer[0] = input_data[0]  # 入力層は値を受け取るのみ\n",
    "        self.input_layer[1] = input_data[1]\n",
    "        self.middle_layer[0].reset()\n",
    "        self.middle_layer[1].reset()\n",
    "        self.output_layer[0].reset()\n",
    "\n",
    "        # 入力層→中間層\n",
    "        self.middle_layer[0].set_input(self.input_layer[0] * self.w_im[0][0])\n",
    "        self.middle_layer[0].set_input(self.input_layer[1] * self.w_im[0][1])\n",
    "        self.middle_layer[0].set_input(self.b_m[0])\n",
    "\n",
    "        self.middle_layer[1].set_input(self.input_layer[0] * self.w_im[1][0])\n",
    "        self.middle_layer[1].set_input(self.input_layer[1] * self.w_im[1][1])\n",
    "        self.middle_layer[1].set_input(self.b_m[1])\n",
    "\n",
    "        # 中間層→出力層\n",
    "        self.output_layer[0].set_input(self.middle_layer[0].get_output() * self.w_mo[0][0])\n",
    "        self.output_layer[0].set_input(self.middle_layer[1].get_output() * self.w_mo[0][1])\n",
    "        self.output_layer[0].set_input(self.b_o[0])\n",
    "\n",
    "        return self.output_layer[0].get_output()\n",
    "\n",
    "# ニューラルネットワークのインスタンス\n",
    "neural_network = NeuralNetwork()\n",
    "\n",
    "# 実行\n",
    "st_predicted = [[], []]  # Setosa\n",
    "vc_predicted = [[], []]  # Versicolor\n",
    "for data in input_data:\n",
    "    if neural_network.commit(data) < 0.5:\n",
    "        st_predicted[0].append(data[0]+sl_ave)\n",
    "        st_predicted[1].append(data[1]+sw_ave)\n",
    "    else:\n",
    "        vc_predicted[0].append(data[0]+sl_ave)\n",
    "        vc_predicted[1].append(data[1]+sw_ave)\n",
    "\n",
    "# 分類結果をグラフ表示\n",
    "plt.scatter(st_predicted[0], st_predicted[1], label=\"Setosa\")\n",
    "plt.scatter(vc_predicted[0], vc_predicted[1], label=\"Versicolor\")\n",
    "plt.legend()\n",
    "\n",
    "plt.xlabel(\"Sepal length (cm)\")\n",
    "plt.ylabel(\"Sepal width (cm)\")\n",
    "plt.title(\"Predicted\")\n",
    "plt.show()"
   ]
  },
  {
   "cell_type": "code",
   "execution_count": null,
   "metadata": {
    "colab": {},
    "colab_type": "code",
    "id": "cP99nXA-8Tfp"
   },
   "outputs": [],
   "source": [
    "# コードの練習用\n"
   ]
  }
 ],
 "metadata": {
  "colab": {
   "authorship_tag": "ABX9TyMhcvsA8B0mKiEj1SUs9b7r",
   "collapsed_sections": [],
   "include_colab_link": true,
   "name": "neural_network.ipynb",
   "provenance": []
  },
  "kernelspec": {
   "display_name": "Python 3",
   "language": "python",
   "name": "python3"
  },
  "language_info": {
   "codemirror_mode": {
    "name": "ipython",
    "version": 3
   },
   "file_extension": ".py",
   "mimetype": "text/x-python",
   "name": "python",
   "nbconvert_exporter": "python",
   "pygments_lexer": "ipython3",
   "version": "3.8.5"
  }
 },
 "nbformat": 4,
 "nbformat_minor": 4
}
